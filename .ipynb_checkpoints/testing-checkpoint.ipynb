{
 "cells": [
  {
   "cell_type": "code",
   "execution_count": 1,
   "metadata": {},
   "outputs": [],
   "source": [
    "# small testing and developing for my CS32 project\n",
    "\n",
    "import anagram_lib as al"
   ]
  },
  {
   "cell_type": "code",
   "execution_count": 8,
   "metadata": {},
   "outputs": [
    {
     "data": {
      "text/plain": [
       "True"
      ]
     },
     "execution_count": 8,
     "metadata": {},
     "output_type": "execute_result"
    }
   ],
   "source": [
    "#testing functions\n",
    "al.is_anagram(\"hello\",\"ollhe\")"
   ]
  },
  {
   "cell_type": "code",
   "execution_count": 9,
   "metadata": {},
   "outputs": [
    {
     "data": {
      "text/plain": [
       "False"
      ]
     },
     "execution_count": 9,
     "metadata": {},
     "output_type": "execute_result"
    }
   ],
   "source": [
    "al.is_word(\"ollhe\")"
   ]
  },
  {
   "cell_type": "code",
   "execution_count": 10,
   "metadata": {},
   "outputs": [
    {
     "data": {
      "text/plain": [
       "True"
      ]
     },
     "execution_count": 10,
     "metadata": {},
     "output_type": "execute_result"
    }
   ],
   "source": [
    "al.is_word(\"hello\")"
   ]
  },
  {
   "cell_type": "code",
   "execution_count": 11,
   "metadata": {},
   "outputs": [
    {
     "name": "stdout",
     "output_type": "stream",
     "text": [
      "raspy is a valid steal from the letter 'y' and word 'rasp'!\n"
     ]
    }
   ],
   "source": [
    "words = [\"rasp\",\"hello\",\"jukebox\"]\n",
    "letters = [\"y\",\"x\",\"a\",\"d\"]\n",
    "\n",
    "# valid steal\n",
    "al.is_valid_steal(\"raspy\", words, letters)"
   ]
  },
  {
   "cell_type": "code",
   "execution_count": 12,
   "metadata": {},
   "outputs": [
    {
     "name": "stdout",
     "output_type": "stream",
     "text": [
      "Not a valid steal!\n"
     ]
    }
   ],
   "source": [
    "# not valid because not an anagram\n",
    "al.is_valid_steal(\"wrap\", words, letters)"
   ]
  },
  {
   "cell_type": "code",
   "execution_count": 23,
   "metadata": {},
   "outputs": [
    {
     "name": "stdout",
     "output_type": "stream",
     "text": [
      "Not a word!\n"
     ]
    }
   ],
   "source": [
    "# not valid because not a word\n",
    "al.is_valid_steal(\"eawihv\", words, letters)"
   ]
  },
  {
   "cell_type": "code",
   "execution_count": 3,
   "metadata": {
    "collapsed": true
   },
   "outputs": [
    {
     "data": {
      "text/plain": [
       "['R',\n",
       " 'N',\n",
       " 'E',\n",
       " 'I',\n",
       " 'T',\n",
       " 'E',\n",
       " 'E',\n",
       " 'U',\n",
       " 'E',\n",
       " 'W',\n",
       " 'T',\n",
       " 'N',\n",
       " 'D',\n",
       " 'X',\n",
       " 'T',\n",
       " 'P',\n",
       " 'N',\n",
       " 'T',\n",
       " 'E',\n",
       " 'U',\n",
       " 'A',\n",
       " 'E',\n",
       " 'L',\n",
       " 'I',\n",
       " 'O',\n",
       " 'D',\n",
       " 'S',\n",
       " 'M',\n",
       " 'V',\n",
       " 'B',\n",
       " 'J',\n",
       " 'J',\n",
       " 'A',\n",
       " 'P',\n",
       " 'I',\n",
       " 'K',\n",
       " 'I',\n",
       " 'L',\n",
       " 'D',\n",
       " 'E',\n",
       " 'T',\n",
       " 'O',\n",
       " 'R',\n",
       " 'T',\n",
       " 'N',\n",
       " 'R',\n",
       " 'Z',\n",
       " 'C',\n",
       " 'Q',\n",
       " 'L',\n",
       " 'O',\n",
       " 'G',\n",
       " 'Y',\n",
       " 'B',\n",
       " 'S',\n",
       " 'F',\n",
       " 'O',\n",
       " 'N',\n",
       " 'E',\n",
       " 'H',\n",
       " 'U',\n",
       " 'I',\n",
       " 'A',\n",
       " 'D',\n",
       " 'E',\n",
       " 'A',\n",
       " 'A',\n",
       " 'A',\n",
       " 'P',\n",
       " 'A',\n",
       " 'I',\n",
       " 'E',\n",
       " 'V',\n",
       " 'T',\n",
       " 'U',\n",
       " 'H',\n",
       " 'M',\n",
       " 'E',\n",
       " 'O',\n",
       " 'X',\n",
       " 'W',\n",
       " 'O',\n",
       " 'E',\n",
       " 'A',\n",
       " 'T',\n",
       " 'E',\n",
       " 'G',\n",
       " 'W',\n",
       " 'Y',\n",
       " 'U',\n",
       " 'C',\n",
       " 'E',\n",
       " 'Q',\n",
       " 'O',\n",
       " 'A',\n",
       " 'R',\n",
       " 'H',\n",
       " 'N',\n",
       " 'R',\n",
       " 'F',\n",
       " 'R',\n",
       " 'C',\n",
       " 'E',\n",
       " 'S',\n",
       " 'E',\n",
       " 'N',\n",
       " 'I',\n",
       " 'I',\n",
       " 'O',\n",
       " 'A',\n",
       " 'D',\n",
       " 'S',\n",
       " 'A',\n",
       " 'R',\n",
       " 'A',\n",
       " 'R',\n",
       " 'D',\n",
       " 'R',\n",
       " 'M',\n",
       " 'F',\n",
       " 'S',\n",
       " 'L',\n",
       " 'E',\n",
       " 'I',\n",
       " 'O',\n",
       " 'G',\n",
       " 'O',\n",
       " 'Z',\n",
       " 'S',\n",
       " 'I',\n",
       " 'K',\n",
       " 'I',\n",
       " 'E',\n",
       " 'O',\n",
       " 'V',\n",
       " 'T',\n",
       " 'G',\n",
       " 'B',\n",
       " 'A',\n",
       " 'N',\n",
       " 'U',\n",
       " 'L',\n",
       " 'I',\n",
       " 'Y']"
      ]
     },
     "execution_count": 3,
     "metadata": {},
     "output_type": "execute_result"
    }
   ],
   "source": [
    "al.letters_from_dist(al.bananagrams_dist)"
   ]
  },
  {
   "cell_type": "code",
   "execution_count": 20,
   "metadata": {},
   "outputs": [],
   "source": [
    "import numpy as np\n",
    "\n",
    "def letter_freqs(letters):\n",
    "    \"\"\"\n",
    "    Given a word or list of letters, converts to \n",
    "    a numpy array of length 26 containing the frequency of each letter.\n",
    "    \"\"\"\n",
    "    freqs = [0 for x in range(26)]\n",
    "    for letter in letters:\n",
    "        freqs[ord(letter)-ord(\"A\")] = freqs[ord(letter)-ord(\"A\")]+1\n",
    "    \n",
    "    return np.array(freqs)\n",
    "        "
   ]
  },
  {
   "cell_type": "code",
   "execution_count": 35,
   "metadata": {},
   "outputs": [],
   "source": [
    "# example of stealing process\n",
    "\n",
    "zeros = np.array([0 for x in range(26)])\n",
    "old_word = \"GAPS\"\n",
    "new_word = \"PAGES\"\n",
    "letters_up = [\"E\",\"D\",\"R\"]\n",
    "\n",
    "available_letters = letter_freqs(old_word) + letter_freqs(letters_up)\n",
    "\n",
    "# check that new word is real\n",
    "check_0 = al.is_word(new_word)\n",
    "\n",
    "# check that old word is a subset of new word (i.e. new word needs to use up entire old word)\n",
    "check_1 = np.all(letter_freqs(new_word)-letter_freqs(old_word) >= zeros)\n",
    "\n",
    "# check that new word is a subset of old word + available letters \n",
    "# (i.e. new word can only add available letters to old word)\n",
    "check_2 = np.all(available_letters - letter_freqs(new_word) >= zeros)\n",
    "\n",
    "# check that new word is longer than old word\n",
    "check_3 = len(new_word) > len(old_word)"
   ]
  },
  {
   "cell_type": "code",
   "execution_count": 21,
   "metadata": {},
   "outputs": [
    {
     "data": {
      "text/plain": [
       "[0, 0, 0, 0, 1, 0, 0, 1, 0, 0, 0, 2, 0, 0, 1, 0, 0, 0, 0, 0, 0, 0, 0, 0, 0, 0]"
      ]
     },
     "execution_count": 21,
     "metadata": {},
     "output_type": "execute_result"
    }
   ],
   "source": [
    "letter_list(\"HELLO\")"
   ]
  },
  {
   "cell_type": "code",
   "execution_count": 1,
   "metadata": {},
   "outputs": [],
   "source": [
    "from anagram_lib import Board"
   ]
  },
  {
   "cell_type": "code",
   "execution_count": 2,
   "metadata": {},
   "outputs": [],
   "source": [
    "board = Board([\"Player1\", \"Player2\"])"
   ]
  },
  {
   "cell_type": "code",
   "execution_count": 3,
   "metadata": {},
   "outputs": [
    {
     "name": "stdout",
     "output_type": "stream",
     "text": [
      "\n",
      "\n",
      "********* CURRENT BOARD *********\n",
      "*** LETTERS: ***\n",
      "*   *   *   *   *   *   *   *   *   *   *   *   *   *   *   *   *   *   *   *   *   *   *   *   *   *   *   *   *   *   *   *   *   *   *   *   *   *   *   *   *   *   *   *   *   *   *   *   *   *   *   *   *   *   *   *   *   *   *   *   *   *   *   *   *   *   *   *   *   *   *   *   *   *   *   *   *   *   *   *   *   *   *   *   *   *   *   *   *   *   *   *   *   *   *   *   *   *   *   *   *   *   *   *   *   *   *   *   *   *   *   *   *   *   *   *   *   *   *   *   *   *   *   *   *   *   *   *   *   *   *   *   *   *   *   *   *   *   *   *   *   *   *   *   \n",
      "*** WORDS: ***\n",
      "PLAYER: Player1\n",
      "PLAYER: Player2\n"
     ]
    }
   ],
   "source": [
    "print(board)"
   ]
  },
  {
   "cell_type": "code",
   "execution_count": 13,
   "metadata": {},
   "outputs": [
    {
     "name": "stdout",
     "output_type": "stream",
     "text": [
      "\n",
      "\n",
      "********* CURRENT BOARD *********\n",
      "*** LETTERS: ***\n",
      "J   E   T   A   E   U   S   W   O   E   *   *   *   *   *   *   *   *   *   *   *   *   *   *   *   *   *   *   *   *   *   *   *   *   *   *   *   *   *   *   *   *   *   *   *   *   *   *   *   *   *   *   *   *   *   *   *   *   *   *   *   *   *   *   *   *   *   *   *   *   *   *   *   *   *   *   *   *   *   *   *   *   *   *   *   *   *   *   *   *   *   *   *   *   *   *   *   *   *   *   *   *   *   *   *   *   *   *   *   *   *   *   *   *   *   *   *   *   *   *   *   *   *   *   *   *   *   *   *   *   *   *   *   *   *   *   *   *   *   *   *   *   *   *   \n",
      "*** WORDS: ***\n",
      "PLAYER: Player1\n",
      "PLAYER: Player2\n"
     ]
    }
   ],
   "source": [
    "for x in range(10):\n",
    "    board.take_turn()\n",
    "print(board)"
   ]
  },
  {
   "cell_type": "code",
   "execution_count": null,
   "metadata": {},
   "outputs": [],
   "source": [
    "board.word_from_letters(player, new_word)\n",
    "print(board)"
   ]
  },
  {
   "cell_type": "code",
   "execution_count": null,
   "metadata": {},
   "outputs": [],
   "source": []
  }
 ],
 "metadata": {
  "kernelspec": {
   "display_name": "Python 3",
   "language": "python",
   "name": "python3"
  },
  "language_info": {
   "codemirror_mode": {
    "name": "ipython",
    "version": 3
   },
   "file_extension": ".py",
   "mimetype": "text/x-python",
   "name": "python",
   "nbconvert_exporter": "python",
   "pygments_lexer": "ipython3",
   "version": "3.7.3"
  }
 },
 "nbformat": 4,
 "nbformat_minor": 2
}
