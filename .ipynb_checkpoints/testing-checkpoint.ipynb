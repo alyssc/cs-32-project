{
 "cells": [
  {
   "cell_type": "code",
   "execution_count": 17,
   "metadata": {},
   "outputs": [],
   "source": [
    "# Load Scrabble dictionary\n",
    "\n",
    "scrabble_words = []\n",
    "\n",
    "with open(\"twl06_scrabble_word_list.txt\") as f:\n",
    "    for line in f.readlines():\n",
    "        scrabble_words.append(line[:-1].lower())"
   ]
  },
  {
   "cell_type": "code",
   "execution_count": 23,
   "metadata": {},
   "outputs": [],
   "source": [
    "# TO-DO: create a Player class with the following\n",
    "# attributes: name, games played/won, current score, current words\n",
    "\n",
    "# TO-DO: create a Word class with the following\n",
    "# attributes: word, Player who owns the word currently, length\n",
    "\n",
    "# checks the Scrabble dictionary to see whether a word exists\n",
    "def is_word(word):\n",
    "    return word in scrabble_words\n",
    "    \n",
    "# checks if two words are anagrams\n",
    "def is_anagram(word1, word2):\n",
    "    return sorted(word1) == sorted(word2)\n",
    "    \n",
    "# Given a list of words (of players) and letters\n",
    "# (on the board), determines whether \n",
    "# new_word is a valid new word or stolen word. \n",
    "# Words should be 4 or more letters.\n",
    "# This function does not yet cover stealing words by adding more than one extra letter. \n",
    "def is_valid_steal(new_word, words, letters):\n",
    "    if not is_word(new_word):\n",
    "        print(\"Not a word!\")\n",
    "        return\n",
    "    \n",
    "    letters_as_str = \"\".join([str(i) for i in letters])\n",
    "    if sorted(new_word) in sorted(letters_as_str):\n",
    "        print(f\"{new_word} is a valid steal from the communal letters!\")\n",
    "        words = words.append(new_word)\n",
    "        # Need to also remove the used letters; figure out later\n",
    "        return\n",
    "    \n",
    "    for word in words:\n",
    "        for letter in letters:\n",
    "            if is_anagram(new_word, word+letter):\n",
    "                print(f\"{new_word} is a valid steal from the letter '{letter}' and word '{word}'!\")\n",
    "                return\n",
    "        \n",
    "    \n",
    "    print(\"Not a valid steal!\")\n",
    "    return None\n",
    "    \n",
    "# comes up with anagram of letters\n",
    "# def anagram(letters):"
   ]
  },
  {
   "cell_type": "code",
   "execution_count": 6,
   "metadata": {},
   "outputs": [
    {
     "data": {
      "text/plain": [
       "True"
      ]
     },
     "execution_count": 6,
     "metadata": {},
     "output_type": "execute_result"
    }
   ],
   "source": [
    "#testing functions\n",
    "is_anagram(\"hello\",\"ollhe\")"
   ]
  },
  {
   "cell_type": "code",
   "execution_count": 21,
   "metadata": {},
   "outputs": [
    {
     "data": {
      "text/plain": [
       "False"
      ]
     },
     "execution_count": 21,
     "metadata": {},
     "output_type": "execute_result"
    }
   ],
   "source": [
    "is_word(\"ollhe\")"
   ]
  },
  {
   "cell_type": "code",
   "execution_count": 20,
   "metadata": {},
   "outputs": [
    {
     "data": {
      "text/plain": [
       "True"
      ]
     },
     "execution_count": 20,
     "metadata": {},
     "output_type": "execute_result"
    }
   ],
   "source": [
    "is_word(\"hello\")"
   ]
  },
  {
   "cell_type": "code",
   "execution_count": 25,
   "metadata": {},
   "outputs": [
    {
     "name": "stdout",
     "output_type": "stream",
     "text": [
      "raspy is a valid steal from the letter 'y' and word 'rasp'!\n"
     ]
    }
   ],
   "source": [
    "words = [\"rasp\",\"hello\",\"jukebox\"]\n",
    "letters = [\"y\",\"x\",\"a\",\"d\"]\n",
    "\n",
    "# valid steal\n",
    "is_valid_steal(\"raspy\", words, letters)"
   ]
  },
  {
   "cell_type": "code",
   "execution_count": 26,
   "metadata": {},
   "outputs": [
    {
     "name": "stdout",
     "output_type": "stream",
     "text": [
      "Not a valid steal!\n"
     ]
    }
   ],
   "source": [
    "# not valid because not an anagram\n",
    "is_valid_steal(\"wrap\", words, letters)"
   ]
  },
  {
   "cell_type": "code",
   "execution_count": 27,
   "metadata": {},
   "outputs": [
    {
     "name": "stdout",
     "output_type": "stream",
     "text": [
      "Not a word!\n"
     ]
    }
   ],
   "source": [
    "# not valid because not a word\n",
    "is_valid_steal(\"eawihv\", words, letters)"
   ]
  }
 ],
 "metadata": {
  "kernelspec": {
   "display_name": "Python 3",
   "language": "python",
   "name": "python3"
  },
  "language_info": {
   "codemirror_mode": {
    "name": "ipython",
    "version": 3
   },
   "file_extension": ".py",
   "mimetype": "text/x-python",
   "name": "python",
   "nbconvert_exporter": "python",
   "pygments_lexer": "ipython3",
   "version": "3.7.3"
  }
 },
 "nbformat": 4,
 "nbformat_minor": 2
}
